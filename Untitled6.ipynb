{
  "nbformat": 4,
  "nbformat_minor": 0,
  "metadata": {
    "colab": {
      "provenance": [],
      "authorship_tag": "ABX9TyNxySMAPpuW/Ao4mbNcUpYG",
      "include_colab_link": true
    },
    "kernelspec": {
      "name": "python3",
      "display_name": "Python 3"
    },
    "language_info": {
      "name": "python"
    }
  },
  "cells": [
    {
      "cell_type": "markdown",
      "metadata": {
        "id": "view-in-github",
        "colab_type": "text"
      },
      "source": [
        "<a href=\"https://colab.research.google.com/github/SoulINdUsT/machine-learning-lab/blob/main/Untitled6.ipynb\" target=\"_parent\"><img src=\"https://colab.research.google.com/assets/colab-badge.svg\" alt=\"Open In Colab\"/></a>"
      ]
    },
    {
      "cell_type": "code",
      "execution_count": 2,
      "metadata": {
        "colab": {
          "base_uri": "https://localhost:8080/"
        },
        "id": "K-Q2CAYX1vKp",
        "outputId": "63aa859f-67f6-4976-c4f9-42bce1214e73"
      },
      "outputs": [
        {
          "output_type": "stream",
          "name": "stdout",
          "text": [
            "True\n"
          ]
        }
      ],
      "source": [
        "#function example armstrong number\n",
        "def is_armstrong(number):\n",
        "\n",
        "    digits = str(number)\n",
        "    num_digits = len(digits)\n",
        "\n",
        "    total = sum(int(digit) ** num_digits for digit in digits)\n",
        "    # Check if the total equals the original number\n",
        "    return total == number\n",
        "\n",
        "\n",
        "print(is_armstrong(153))"
      ]
    },
    {
      "cell_type": "code",
      "source": [
        "#from lec 7 importing modules\n",
        "from datetime import datetime\n",
        "\n",
        "def current_datetime():\n",
        "\n",
        "    now = datetime.now()\n",
        "    return now.strftime(\"%Y-%m-%d %H:%M:%S\")\n",
        "\n",
        "print(current_datetime())\n"
      ],
      "metadata": {
        "colab": {
          "base_uri": "https://localhost:8080/"
        },
        "id": "RbcUC2cU3HGf",
        "outputId": "437aac10-4d44-4cb8-e0cb-a84d27e616c8"
      },
      "execution_count": 3,
      "outputs": [
        {
          "output_type": "stream",
          "name": "stdout",
          "text": [
            "2025-06-24 17:00:59\n"
          ]
        }
      ]
    },
    {
      "cell_type": "code",
      "source": [
        "#from lec 8 recursive method by divde and conquer method\n",
        "\n",
        "def find_max(arr):\n",
        "\n",
        "\n",
        "    if len(arr) == 1:\n",
        "        return arr[0]\n",
        "    else:\n",
        "        # Divide the list into two halves\n",
        "        mid = len(arr) // 2\n",
        "        left_max = find_max(arr[:mid])\n",
        "        right_max = find_max(arr[mid:])\n",
        "        # Combine: return the maximum of the two\n",
        "        return max(left_max, right_max)\n",
        "\n",
        "lst = [8, 3, 10, 7, 15, 2, 19, 1, 39,68,91,23,30]\n",
        "print(find_max(lst))"
      ],
      "metadata": {
        "colab": {
          "base_uri": "https://localhost:8080/"
        },
        "id": "0yYY_qph64iu",
        "outputId": "32e64104-abf2-4ac1-a42c-2ec2dbbae5d6"
      },
      "execution_count": 5,
      "outputs": [
        {
          "output_type": "stream",
          "name": "stdout",
          "text": [
            "91\n"
          ]
        }
      ]
    },
    {
      "cell_type": "code",
      "source": [
        "#lec9 from given slide hw\n",
        "#  Create a list of 10 integers\n",
        "numbers = [5, 12, 7, 19, 3, 22, 1, 8, 14, 10]\n",
        "print(\"Original list:\", numbers)\n",
        "\n",
        "#  Append an element to the list\n",
        "numbers.append(25)\n",
        "print(\"After appending 25:\", numbers)\n",
        "\n",
        "#  Insert an element at a specific position\n",
        "numbers.insert(3, 99)\n",
        "print(\"After inserting 99 at index 3:\", numbers)\n",
        "\n",
        "#  Remove an element from the list (e.g., remove the number 22)\n",
        "numbers.remove(22)\n",
        "print(\"After removing 22:\", numbers)\n",
        "\n",
        "# Pop an element from a specific position (e.g., index 5)\n",
        "popped_element = numbers.pop(5)\n",
        "print(f\"After popping element at index 5 ({popped_element}):\", numbers)\n",
        "\n"
      ],
      "metadata": {
        "colab": {
          "base_uri": "https://localhost:8080/"
        },
        "id": "WYz3eS6D7xcG",
        "outputId": "574d6da1-f214-4feb-d0c2-e5a5dff413e9"
      },
      "execution_count": 6,
      "outputs": [
        {
          "output_type": "stream",
          "name": "stdout",
          "text": [
            "Original list: [5, 12, 7, 19, 3, 22, 1, 8, 14, 10]\n",
            "After appending 25: [5, 12, 7, 19, 3, 22, 1, 8, 14, 10, 25]\n",
            "After inserting 99 at index 3: [5, 12, 7, 99, 19, 3, 22, 1, 8, 14, 10, 25]\n",
            "After removing 22: [5, 12, 7, 99, 19, 3, 1, 8, 14, 10, 25]\n",
            "After popping element at index 5 (3): [5, 12, 7, 99, 19, 1, 8, 14, 10, 25]\n"
          ]
        }
      ]
    },
    {
      "cell_type": "code",
      "source": [
        "#lec 10\n",
        "class Student:\n",
        "\n",
        "    def __init__(self, name, marks):\n",
        "        self.name = name\n",
        "        self.marks = marks\n",
        "\n",
        "\n",
        "    def display(self):\n",
        "        print(f\"Name: {self.name}, Marks: {self.marks}\")\n",
        "\n",
        "    def has_passed(self):\n",
        "        if self.marks >= 40:\n",
        "            print(f\"{self.name} has passed!\")\n",
        "        else:\n",
        "            print(f\"{self.name} has failed.\")\n",
        "\n",
        "\n",
        "student1 = Student(\"Alvi\", 75)\n",
        "student2 = Student(\"Muntaha \", 70)\n",
        "\n",
        "\n",
        "student1.display()\n",
        "student1.has_passed()\n",
        "\n",
        "student2.display()\n",
        "student2.has_passed()\n"
      ],
      "metadata": {
        "colab": {
          "base_uri": "https://localhost:8080/"
        },
        "id": "iLvRDl7g90ef",
        "outputId": "bbcc415b-267e-48bd-9544-e1be8782bdb2"
      },
      "execution_count": 8,
      "outputs": [
        {
          "output_type": "stream",
          "name": "stdout",
          "text": [
            "Name: Alvi, Marks: 75\n",
            "Alvi has passed!\n",
            "Name: Muntaha , Marks: 70\n",
            "Muntaha  has passed!\n"
          ]
        }
      ]
    }
  ]
}